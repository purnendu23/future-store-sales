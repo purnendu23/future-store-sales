{
 "cells": [
  {
   "cell_type": "code",
   "execution_count": 1,
   "metadata": {},
   "outputs": [],
   "source": [
    "from datetime import datetime, timedelta, date\n",
    "from calendar import monthrange\n",
    "# from pytz import timezone\n",
    "import pandas as pd\n",
    "import numpy as np\n",
    "#import feather\n",
    "import datetime \n",
    "import pytz\n",
    "import csv\n",
    "import os\n",
    "import seaborn as sns\n",
    "import matplotlib.pyplot as plt\n",
    "import logging\n",
    "\n",
    "import xgboost as xgb\n",
    "import time\n",
    "from sklearn.pipeline import *\n",
    "\n",
    "from math import sqrt\n",
    "from numpy import loadtxt\n",
    "from itertools import product\n",
    "from tqdm import tqdm\n",
    "from sklearn import preprocessing\n",
    "from xgboost import plot_tree\n",
    "\n",
    "from sklearn.model_selection import train_test_split\n",
    "from sklearn.metrics import accuracy_score\n",
    "from sklearn.metrics import mean_squared_error\n",
    "from sklearn.model_selection import KFold\n",
    "from sklearn.feature_extraction.text import TfidfVectorizer\n",
    "\n",
    "kernel_with_output = False\n",
    "\n",
    "\n",
    "from utils import *\n",
    "\n",
    "%matplotlib inline\n",
    "\n",
    "logging.basicConfig(format='%(asctime)s : %(levelname)s : %(message)s', level=logging.INFO)\n"
   ]
  },
  {
   "cell_type": "code",
   "execution_count": null,
   "metadata": {},
   "outputs": [],
   "source": []
  },
  {
   "cell_type": "code",
   "execution_count": 2,
   "metadata": {},
   "outputs": [],
   "source": [
    "# https://www.kaggle.com/szhou42/predict-future-sales-top-11-solution\n",
    "\n",
    "# scp jini:/home/ubuntu/future-store-sales/submissions/xgb_base_submission.csv ~/Documents/reading_training/future-store-sales/submissions/."
   ]
  },
  {
   "cell_type": "code",
   "execution_count": 2,
   "metadata": {},
   "outputs": [],
   "source": [
    "DATA_FOLDER = './data/'\n",
    "ADD_RESOURCES = './res/'\n",
    "\n",
    "sales_train    = pd.read_csv(os.path.join(DATA_FOLDER, 'sales_train.csv.gz'))\n",
    "items           = pd.read_csv(os.path.join(DATA_FOLDER, 'items.csv'))\n",
    "item_categories = pd.read_csv(os.path.join(DATA_FOLDER, 'item_categories.csv'))\n",
    "shops           = pd.read_csv(os.path.join(DATA_FOLDER, 'shops.csv'))\n",
    "test = pd.read_csv(os.path.join(DATA_FOLDER, 'test.csv.gz')) \n",
    "sample_submission = pd.read_csv(os.path.join(DATA_FOLDER, 'sample_submission.csv.gz'))\n",
    "\n",
    "\n",
    "date_df = pd.read_pickle(os.path.join(ADD_RESOURCES, \"russian_holidays.pkl\"))\n",
    "geography = pd.read_csv(os.path.join(ADD_RESOURCES, 'geography.csv'))\n",
    "#holidays = feather.read_dataframe(os.path.join(ADD_RESOURCES, 'hol.feather'))"
   ]
  },
  {
   "cell_type": "code",
   "execution_count": 10,
   "metadata": {},
   "outputs": [],
   "source": [
    "# For every month we create a grid from all shops/items combinations from that month\n",
    "\n",
    "grid = []\n",
    "for block_num in sales_train.date_block_num.unique():\n",
    "    cur_shops = sales_train[sales_train.date_block_num == block_num]['shop_id'].unique()\n",
    "    cur_items = sales_train[sales_train.date_block_num == block_num]['item_id'].unique()\n",
    "    \n",
    "    # cartesian product of shops, items with the block number \n",
    "    l = list( product(*[cur_shops, cur_items, [block_num]]) ) # sample l[0:2] -> [(45, 13315, 33), (45, 13881, 33)]\n",
    "    \n",
    "    grid.append(np.array(l , dtype='int32'))\n",
    "    # np-array looks like this:\n",
    "        #     array([[   45, 13315,    33],\n",
    "        #        [   45, 13880,    33],\n",
    "        #        [   45, 13881,    33],\n",
    "        #        ...,\n",
    "        #        [   21,  7640,    33],\n",
    "        #        [   21,  7632,    33],\n",
    "        #        [   21,  7440,    33]], dtype=int32)\n",
    "    # right now, 'grid' -> is a list of np-arrays\n",
    "\n",
    "index_cols = ['shop_id', 'item_id', 'date_block_num']\n",
    "# np.vstack is used to unpack the rows from all np.arrays and put into a single array\n",
    "grid = pd.DataFrame(np.vstack(grid), columns = index_cols,dtype=np.int32) "
   ]
  },
  {
   "cell_type": "code",
   "execution_count": 11,
   "metadata": {},
   "outputs": [
    {
     "data": {
      "text/html": [
       "<div>\n",
       "<style scoped>\n",
       "    .dataframe tbody tr th:only-of-type {\n",
       "        vertical-align: middle;\n",
       "    }\n",
       "\n",
       "    .dataframe tbody tr th {\n",
       "        vertical-align: top;\n",
       "    }\n",
       "\n",
       "    .dataframe thead th {\n",
       "        text-align: right;\n",
       "    }\n",
       "</style>\n",
       "<table border=\"1\" class=\"dataframe\">\n",
       "  <thead>\n",
       "    <tr style=\"text-align: right;\">\n",
       "      <th></th>\n",
       "      <th>shop_id</th>\n",
       "      <th>item_id</th>\n",
       "      <th>date_block_num</th>\n",
       "      <th>item_cnt_month</th>\n",
       "      <th>avg_item_price</th>\n",
       "      <th>item_category_id</th>\n",
       "    </tr>\n",
       "  </thead>\n",
       "  <tbody>\n",
       "    <tr>\n",
       "      <th>0</th>\n",
       "      <td>59</td>\n",
       "      <td>22154</td>\n",
       "      <td>0</td>\n",
       "      <td>1.0</td>\n",
       "      <td>999.0</td>\n",
       "      <td>37</td>\n",
       "    </tr>\n",
       "    <tr>\n",
       "      <th>1</th>\n",
       "      <td>25</td>\n",
       "      <td>22154</td>\n",
       "      <td>0</td>\n",
       "      <td>5.0</td>\n",
       "      <td>999.0</td>\n",
       "      <td>37</td>\n",
       "    </tr>\n",
       "    <tr>\n",
       "      <th>2</th>\n",
       "      <td>24</td>\n",
       "      <td>22154</td>\n",
       "      <td>0</td>\n",
       "      <td>1.0</td>\n",
       "      <td>999.0</td>\n",
       "      <td>37</td>\n",
       "    </tr>\n",
       "    <tr>\n",
       "      <th>3</th>\n",
       "      <td>23</td>\n",
       "      <td>22154</td>\n",
       "      <td>0</td>\n",
       "      <td>0.0</td>\n",
       "      <td>NaN</td>\n",
       "      <td>37</td>\n",
       "    </tr>\n",
       "    <tr>\n",
       "      <th>4</th>\n",
       "      <td>19</td>\n",
       "      <td>22154</td>\n",
       "      <td>0</td>\n",
       "      <td>0.0</td>\n",
       "      <td>NaN</td>\n",
       "      <td>37</td>\n",
       "    </tr>\n",
       "  </tbody>\n",
       "</table>\n",
       "</div>"
      ],
      "text/plain": [
       "   shop_id  item_id  date_block_num  item_cnt_month  avg_item_price  \\\n",
       "0       59    22154               0             1.0           999.0   \n",
       "1       25    22154               0             5.0           999.0   \n",
       "2       24    22154               0             1.0           999.0   \n",
       "3       23    22154               0             0.0             NaN   \n",
       "4       19    22154               0             0.0             NaN   \n",
       "\n",
       "   item_category_id  \n",
       "0                37  \n",
       "1                37  \n",
       "2                37  \n",
       "3                37  \n",
       "4                37  "
      ]
     },
     "execution_count": 11,
     "metadata": {},
     "output_type": "execute_result"
    }
   ],
   "source": [
    "# Aggregations\n",
    "sales_train['item_cnt_day'] = sales_train['item_cnt_day'].clip(0,20) # we say no-item sells more than 20 everyday\n",
    "groups = sales_train.groupby(['shop_id', 'item_id', 'date_block_num'])\n",
    "trainset = groups.agg({'item_cnt_day':'sum', 'item_price':'mean'}).reset_index()\n",
    "trainset = trainset.rename(columns = {'item_cnt_day' : 'item_cnt_month'})\n",
    "trainset = trainset.rename(columns = {'item_price' : 'avg_item_price'})\n",
    "\n",
    "trainset['item_cnt_month'] = trainset['item_cnt_month'].clip(0,20)\n",
    "\n",
    "trainset = pd.merge(grid,trainset,how='left',on=index_cols)\n",
    "trainset.item_cnt_month = trainset.item_cnt_month.fillna(0)\n",
    "\n",
    "# Get category id\n",
    "trainset = pd.merge(trainset, items[['item_id', 'item_category_id']], on = 'item_id')\n",
    "trainset.to_csv('trainset_with_grid.csv', index_label=False)\n",
    "\n",
    "trainset.head()"
   ]
  },
  {
   "cell_type": "code",
   "execution_count": 3,
   "metadata": {},
   "outputs": [
    {
     "data": {
      "text/html": [
       "<div>\n",
       "<style scoped>\n",
       "    .dataframe tbody tr th:only-of-type {\n",
       "        vertical-align: middle;\n",
       "    }\n",
       "\n",
       "    .dataframe tbody tr th {\n",
       "        vertical-align: top;\n",
       "    }\n",
       "\n",
       "    .dataframe thead th {\n",
       "        text-align: right;\n",
       "    }\n",
       "</style>\n",
       "<table border=\"1\" class=\"dataframe\">\n",
       "  <thead>\n",
       "    <tr style=\"text-align: right;\">\n",
       "      <th></th>\n",
       "      <th>Unnamed: 0</th>\n",
       "      <th>shop_id</th>\n",
       "      <th>item_id</th>\n",
       "      <th>date_block_num</th>\n",
       "      <th>item_cnt_month</th>\n",
       "      <th>item_price</th>\n",
       "      <th>item_category_id</th>\n",
       "    </tr>\n",
       "  </thead>\n",
       "  <tbody>\n",
       "    <tr>\n",
       "      <th>0</th>\n",
       "      <td>0</td>\n",
       "      <td>59</td>\n",
       "      <td>22154</td>\n",
       "      <td>0</td>\n",
       "      <td>1.0</td>\n",
       "      <td>999.0</td>\n",
       "      <td>37</td>\n",
       "    </tr>\n",
       "    <tr>\n",
       "      <th>1</th>\n",
       "      <td>1</td>\n",
       "      <td>25</td>\n",
       "      <td>22154</td>\n",
       "      <td>0</td>\n",
       "      <td>5.0</td>\n",
       "      <td>999.0</td>\n",
       "      <td>37</td>\n",
       "    </tr>\n",
       "    <tr>\n",
       "      <th>2</th>\n",
       "      <td>2</td>\n",
       "      <td>24</td>\n",
       "      <td>22154</td>\n",
       "      <td>0</td>\n",
       "      <td>1.0</td>\n",
       "      <td>999.0</td>\n",
       "      <td>37</td>\n",
       "    </tr>\n",
       "    <tr>\n",
       "      <th>3</th>\n",
       "      <td>3</td>\n",
       "      <td>23</td>\n",
       "      <td>22154</td>\n",
       "      <td>0</td>\n",
       "      <td>0.0</td>\n",
       "      <td>NaN</td>\n",
       "      <td>37</td>\n",
       "    </tr>\n",
       "    <tr>\n",
       "      <th>4</th>\n",
       "      <td>4</td>\n",
       "      <td>19</td>\n",
       "      <td>22154</td>\n",
       "      <td>0</td>\n",
       "      <td>0.0</td>\n",
       "      <td>NaN</td>\n",
       "      <td>37</td>\n",
       "    </tr>\n",
       "  </tbody>\n",
       "</table>\n",
       "</div>"
      ],
      "text/plain": [
       "   Unnamed: 0  shop_id  item_id  date_block_num  item_cnt_month  item_price  \\\n",
       "0           0       59    22154               0             1.0       999.0   \n",
       "1           1       25    22154               0             5.0       999.0   \n",
       "2           2       24    22154               0             1.0       999.0   \n",
       "3           3       23    22154               0             0.0         NaN   \n",
       "4           4       19    22154               0             0.0         NaN   \n",
       "\n",
       "   item_category_id  \n",
       "0                37  \n",
       "1                37  \n",
       "2                37  \n",
       "3                37  \n",
       "4                37  "
      ]
     },
     "execution_count": 3,
     "metadata": {},
     "output_type": "execute_result"
    }
   ],
   "source": [
    "trainset = pd.read_csv(\"./trainset_with_grid.csv\")\n",
    "trainset.head()"
   ]
  },
  {
   "cell_type": "code",
   "execution_count": 4,
   "metadata": {},
   "outputs": [
    {
     "data": {
      "text/plain": [
       "array([ 0,  1,  2,  3,  4,  5,  6,  7,  8,  9, 10, 11, 12, 13, 14, 15, 16,\n",
       "       17, 18, 19, 20, 21, 22, 23, 24, 25, 26, 27, 28, 29, 30, 31, 32, 33],\n",
       "      dtype=int64)"
      ]
     },
     "execution_count": 4,
     "metadata": {},
     "output_type": "execute_result"
    }
   ],
   "source": [
    "np.sort(trainset.date_block_num.unique())"
   ]
  },
  {
   "cell_type": "code",
   "execution_count": 5,
   "metadata": {},
   "outputs": [
    {
     "data": {
      "text/html": [
       "<div>\n",
       "<style scoped>\n",
       "    .dataframe tbody tr th:only-of-type {\n",
       "        vertical-align: middle;\n",
       "    }\n",
       "\n",
       "    .dataframe tbody tr th {\n",
       "        vertical-align: top;\n",
       "    }\n",
       "\n",
       "    .dataframe thead th {\n",
       "        text-align: right;\n",
       "    }\n",
       "</style>\n",
       "<table border=\"1\" class=\"dataframe\">\n",
       "  <thead>\n",
       "    <tr style=\"text-align: right;\">\n",
       "      <th></th>\n",
       "      <th>ID</th>\n",
       "      <th>shop_id</th>\n",
       "      <th>item_id</th>\n",
       "    </tr>\n",
       "  </thead>\n",
       "  <tbody>\n",
       "    <tr>\n",
       "      <th>0</th>\n",
       "      <td>0</td>\n",
       "      <td>5</td>\n",
       "      <td>5037</td>\n",
       "    </tr>\n",
       "    <tr>\n",
       "      <th>1</th>\n",
       "      <td>1</td>\n",
       "      <td>5</td>\n",
       "      <td>5320</td>\n",
       "    </tr>\n",
       "    <tr>\n",
       "      <th>2</th>\n",
       "      <td>2</td>\n",
       "      <td>5</td>\n",
       "      <td>5233</td>\n",
       "    </tr>\n",
       "    <tr>\n",
       "      <th>3</th>\n",
       "      <td>3</td>\n",
       "      <td>5</td>\n",
       "      <td>5232</td>\n",
       "    </tr>\n",
       "    <tr>\n",
       "      <th>4</th>\n",
       "      <td>4</td>\n",
       "      <td>5</td>\n",
       "      <td>5268</td>\n",
       "    </tr>\n",
       "  </tbody>\n",
       "</table>\n",
       "</div>"
      ],
      "text/plain": [
       "   ID  shop_id  item_id\n",
       "0   0        5     5037\n",
       "1   1        5     5320\n",
       "2   2        5     5233\n",
       "3   3        5     5232\n",
       "4   4        5     5268"
      ]
     },
     "execution_count": 5,
     "metadata": {},
     "output_type": "execute_result"
    }
   ],
   "source": [
    "test.head()"
   ]
  },
  {
   "cell_type": "markdown",
   "metadata": {},
   "source": [
    "#### Benchmark submission"
   ]
  },
  {
   "cell_type": "code",
   "execution_count": 9,
   "metadata": {},
   "outputs": [
    {
     "name": "stdout",
     "output_type": "stream",
     "text": [
      "(214200, 5)\n"
     ]
    }
   ],
   "source": [
    "last_month = trainset[trainset.date_block_num==33]\n",
    "last_month = last_month.groupby(['shop_id', 'item_id']).agg({'item_cnt_month':'mean'}).reset_index()\n",
    "\n",
    "submission = test.merge(last_month,on=['shop_id', 'item_id'] , how='left', indicator=True)\n",
    "submission['item_cnt_month'] = submission.item_cnt_month.fillna(0)\n",
    "print(submission.shape)\n",
    "\n",
    "submission.drop(columns=['shop_id', 'item_id', '_merge'], inplace=True)\n",
    "submission = submission.set_index('ID')\n",
    "\n",
    "print(submission.head())\n",
    "submission.to_csv(\"./submissions/benchmark_submission.csv\")"
   ]
  },
  {
   "cell_type": "markdown",
   "metadata": {},
   "source": [
    "#### Using baseline features with xgboost"
   ]
  },
  {
   "cell_type": "code",
   "execution_count": 11,
   "metadata": {},
   "outputs": [],
   "source": [
    "baseline_features = ['shop_id', 'item_id', 'item_category_id', 'date_block_num']\n",
    "target = 'item_cnt_month'"
   ]
  },
  {
   "cell_type": "code",
   "execution_count": null,
   "metadata": {},
   "outputs": [],
   "source": []
  },
  {
   "cell_type": "code",
   "execution_count": 12,
   "metadata": {},
   "outputs": [
    {
     "data": {
      "text/html": [
       "<div>\n",
       "<style scoped>\n",
       "    .dataframe tbody tr th:only-of-type {\n",
       "        vertical-align: middle;\n",
       "    }\n",
       "\n",
       "    .dataframe tbody tr th {\n",
       "        vertical-align: top;\n",
       "    }\n",
       "\n",
       "    .dataframe thead th {\n",
       "        text-align: right;\n",
       "    }\n",
       "</style>\n",
       "<table border=\"1\" class=\"dataframe\">\n",
       "  <thead>\n",
       "    <tr style=\"text-align: right;\">\n",
       "      <th></th>\n",
       "      <th>ID</th>\n",
       "      <th>shop_id</th>\n",
       "      <th>item_id</th>\n",
       "      <th>item_category_id</th>\n",
       "      <th>date_block_num</th>\n",
       "    </tr>\n",
       "  </thead>\n",
       "  <tbody>\n",
       "    <tr>\n",
       "      <th>0</th>\n",
       "      <td>0</td>\n",
       "      <td>5</td>\n",
       "      <td>5037</td>\n",
       "      <td>19</td>\n",
       "      <td>34</td>\n",
       "    </tr>\n",
       "    <tr>\n",
       "      <th>1</th>\n",
       "      <td>1</td>\n",
       "      <td>5</td>\n",
       "      <td>5320</td>\n",
       "      <td>55</td>\n",
       "      <td>34</td>\n",
       "    </tr>\n",
       "    <tr>\n",
       "      <th>2</th>\n",
       "      <td>2</td>\n",
       "      <td>5</td>\n",
       "      <td>5233</td>\n",
       "      <td>19</td>\n",
       "      <td>34</td>\n",
       "    </tr>\n",
       "    <tr>\n",
       "      <th>3</th>\n",
       "      <td>3</td>\n",
       "      <td>5</td>\n",
       "      <td>5232</td>\n",
       "      <td>23</td>\n",
       "      <td>34</td>\n",
       "    </tr>\n",
       "    <tr>\n",
       "      <th>4</th>\n",
       "      <td>4</td>\n",
       "      <td>5</td>\n",
       "      <td>5268</td>\n",
       "      <td>20</td>\n",
       "      <td>34</td>\n",
       "    </tr>\n",
       "  </tbody>\n",
       "</table>\n",
       "</div>"
      ],
      "text/plain": [
       "   ID  shop_id  item_id  item_category_id  date_block_num\n",
       "0   0        5     5037                19              34\n",
       "1   1        5     5320                55              34\n",
       "2   2        5     5233                19              34\n",
       "3   3        5     5232                23              34\n",
       "4   4        5     5268                20              34"
      ]
     },
     "execution_count": 12,
     "metadata": {},
     "output_type": "execute_result"
    }
   ],
   "source": [
    "# prepare test\n",
    "merged_test = test.merge(items[['item_id' , 'item_category_id']], on='item_id', how='left')\n",
    "merged_test['date_block_num'] = 34\n",
    "\n",
    "merged_test.head()"
   ]
  },
  {
   "cell_type": "code",
   "execution_count": 13,
   "metadata": {},
   "outputs": [],
   "source": [
    "base_pipeline = make_pipeline(\n",
    "    ColumnSelector(baseline_features),\n",
    "    xgb.XGBRegressor(max_depth = 10, min_child_weight=0.5, subsample = 1, eta = 0.3, num_round = 50, seed = 1, eval_metric='rmse')\n",
    ")"
   ]
  },
  {
   "cell_type": "code",
   "execution_count": 11,
   "metadata": {},
   "outputs": [
    {
     "name": "stderr",
     "output_type": "stream",
     "text": [
      "/home/ubuntu/miniconda3/envs/py36/lib/python3.6/site-packages/xgboost/core.py:587: FutureWarning: Series.base is deprecated and will be removed in a future version\n",
      "  if getattr(data, 'base', None) is not None and \\\n",
      "/home/ubuntu/miniconda3/envs/py36/lib/python3.6/site-packages/xgboost/core.py:588: FutureWarning: Series.base is deprecated and will be removed in a future version\n",
      "  data.base is not None and isinstance(data, np.ndarray) \\\n"
     ]
    },
    {
     "data": {
      "text/plain": [
       "Pipeline(memory=None,\n",
       "     steps=[('columnselector', ColumnSelector(columns=['shop_id', 'item_id', 'item_category_id', 'date_block_num'])), ('xgbregressor', XGBRegressor(base_score=0.5, booster='gbtree', colsample_bylevel=1,\n",
       "       colsample_bytree=1, eta=0.3, eval_metric='rmse', gamma=0,\n",
       "       importance_type='gain', learni...m_state=0, reg_alpha=0, reg_lambda=1, scale_pos_weight=1,\n",
       "       seed=1, silent=True, subsample=1))])"
      ]
     },
     "execution_count": 11,
     "metadata": {},
     "output_type": "execute_result"
    }
   ],
   "source": [
    "base_pipeline.fit(trainset, trainset.item_cnt_month)"
   ]
  },
  {
   "cell_type": "code",
   "execution_count": 20,
   "metadata": {},
   "outputs": [],
   "source": [
    "submission = test\n",
    "submission['item_cnt_month'] = base_pipeline.predict(merged_test)\n",
    "submission = submission.set_index('ID')\n",
    "submission.drop(columns=['item_id', 'shop_id'], inplace=True)\n",
    "submission.to_csv(\"./submissions/xgb_base_submission.csv\")"
   ]
  },
  {
   "cell_type": "markdown",
   "metadata": {},
   "source": [
    "###### Build a train_test_set for combined feature engineering"
   ]
  },
  {
   "cell_type": "code",
   "execution_count": 14,
   "metadata": {},
   "outputs": [],
   "source": [
    "train_set = trainset[baseline_features + [target]]\n",
    "\n",
    "test_set = test.merge(items[['item_id' , 'item_category_id']], on='item_id', how='left')\n",
    "test_set['date_block_num'] = 34\n",
    "test_set ['item_cnt_month'] = -1\n",
    "test_set.set_index('ID', inplace=True)\n",
    "\n",
    "train_test_set = pd.concat([train_set, test_set], axis=0)"
   ]
  },
  {
   "cell_type": "code",
   "execution_count": 15,
   "metadata": {},
   "outputs": [
    {
     "data": {
      "text/html": [
       "<div>\n",
       "<style scoped>\n",
       "    .dataframe tbody tr th:only-of-type {\n",
       "        vertical-align: middle;\n",
       "    }\n",
       "\n",
       "    .dataframe tbody tr th {\n",
       "        vertical-align: top;\n",
       "    }\n",
       "\n",
       "    .dataframe thead th {\n",
       "        text-align: right;\n",
       "    }\n",
       "</style>\n",
       "<table border=\"1\" class=\"dataframe\">\n",
       "  <thead>\n",
       "    <tr style=\"text-align: right;\">\n",
       "      <th></th>\n",
       "      <th>shop_id</th>\n",
       "      <th>item_id</th>\n",
       "      <th>item_category_id</th>\n",
       "      <th>date_block_num</th>\n",
       "      <th>item_cnt_month</th>\n",
       "    </tr>\n",
       "  </thead>\n",
       "  <tbody>\n",
       "    <tr>\n",
       "      <th>0</th>\n",
       "      <td>59</td>\n",
       "      <td>22154</td>\n",
       "      <td>37</td>\n",
       "      <td>0</td>\n",
       "      <td>1.0</td>\n",
       "    </tr>\n",
       "    <tr>\n",
       "      <th>1</th>\n",
       "      <td>25</td>\n",
       "      <td>22154</td>\n",
       "      <td>37</td>\n",
       "      <td>0</td>\n",
       "      <td>5.0</td>\n",
       "    </tr>\n",
       "    <tr>\n",
       "      <th>2</th>\n",
       "      <td>24</td>\n",
       "      <td>22154</td>\n",
       "      <td>37</td>\n",
       "      <td>0</td>\n",
       "      <td>1.0</td>\n",
       "    </tr>\n",
       "    <tr>\n",
       "      <th>3</th>\n",
       "      <td>23</td>\n",
       "      <td>22154</td>\n",
       "      <td>37</td>\n",
       "      <td>0</td>\n",
       "      <td>0.0</td>\n",
       "    </tr>\n",
       "    <tr>\n",
       "      <th>4</th>\n",
       "      <td>19</td>\n",
       "      <td>22154</td>\n",
       "      <td>37</td>\n",
       "      <td>0</td>\n",
       "      <td>0.0</td>\n",
       "    </tr>\n",
       "  </tbody>\n",
       "</table>\n",
       "</div>"
      ],
      "text/plain": [
       "   shop_id  item_id  item_category_id  date_block_num  item_cnt_month\n",
       "0       59    22154                37               0             1.0\n",
       "1       25    22154                37               0             5.0\n",
       "2       24    22154                37               0             1.0\n",
       "3       23    22154                37               0             0.0\n",
       "4       19    22154                37               0             0.0"
      ]
     },
     "execution_count": 15,
     "metadata": {},
     "output_type": "execute_result"
    }
   ],
   "source": [
    "train_test_set.head()"
   ]
  },
  {
   "cell_type": "code",
   "execution_count": 22,
   "metadata": {},
   "outputs": [
    {
     "name": "stdout",
     "output_type": "stream",
     "text": [
      "(84, 2)\n"
     ]
    },
    {
     "data": {
      "text/html": [
       "<div>\n",
       "<style scoped>\n",
       "    .dataframe tbody tr th:only-of-type {\n",
       "        vertical-align: middle;\n",
       "    }\n",
       "\n",
       "    .dataframe tbody tr th {\n",
       "        vertical-align: top;\n",
       "    }\n",
       "\n",
       "    .dataframe thead th {\n",
       "        text-align: right;\n",
       "    }\n",
       "</style>\n",
       "<table border=\"1\" class=\"dataframe\">\n",
       "  <thead>\n",
       "    <tr style=\"text-align: right;\">\n",
       "      <th></th>\n",
       "      <th>item_category_name</th>\n",
       "      <th>item_category_id</th>\n",
       "    </tr>\n",
       "  </thead>\n",
       "  <tbody>\n",
       "    <tr>\n",
       "      <th>0</th>\n",
       "      <td>PC - Гарнитуры/Наушники</td>\n",
       "      <td>0</td>\n",
       "    </tr>\n",
       "    <tr>\n",
       "      <th>1</th>\n",
       "      <td>Аксессуары - PS2</td>\n",
       "      <td>1</td>\n",
       "    </tr>\n",
       "    <tr>\n",
       "      <th>2</th>\n",
       "      <td>Аксессуары - PS3</td>\n",
       "      <td>2</td>\n",
       "    </tr>\n",
       "    <tr>\n",
       "      <th>3</th>\n",
       "      <td>Аксессуары - PS4</td>\n",
       "      <td>3</td>\n",
       "    </tr>\n",
       "    <tr>\n",
       "      <th>4</th>\n",
       "      <td>Аксессуары - PSP</td>\n",
       "      <td>4</td>\n",
       "    </tr>\n",
       "  </tbody>\n",
       "</table>\n",
       "</div>"
      ],
      "text/plain": [
       "        item_category_name  item_category_id\n",
       "0  PC - Гарнитуры/Наушники                 0\n",
       "1         Аксессуары - PS2                 1\n",
       "2         Аксессуары - PS3                 2\n",
       "3         Аксессуары - PS4                 3\n",
       "4         Аксессуары - PSP                 4"
      ]
     },
     "execution_count": 22,
     "metadata": {},
     "output_type": "execute_result"
    }
   ],
   "source": [
    "print(item_categories.shape)\n",
    "item_categories.head()"
   ]
  },
  {
   "cell_type": "code",
   "execution_count": 35,
   "metadata": {},
   "outputs": [
    {
     "name": "stdout",
     "output_type": "stream",
     "text": [
      "['PC - Headsets / Headphones', 'Accessories - PS2', 'Accessories - PS3', 'Accessories - PS4', 'Accessories - PSP', 'Accessories - PSVita', 'Accessories - XBOX 360', 'Accessories - XBOX ONE', 'Tickets (Digital)', 'Delivery of goods', 'Game Consoles - PS2', 'Game Consoles - PS3', 'Game Consoles - PS4', 'Gaming Consoles - PSP', 'Game Consoles - PSVita', 'Gaming Consoles - XBOX 360', 'Gaming Consoles - XBOX ONE', 'Game Consoles - Other', 'Games - PS2', 'Games - PS3', 'Games - PS4', 'Games - PSP', 'Games - PSVita', 'Games - XBOX 360', 'Games - XBOX ONE', 'Games - Accessories for games', 'Android Games - Digital', 'MAC Games - Digit', 'PC Games - Additional Editions', 'PC Games - Collectible Editions', 'PC Games - Standard Editions', 'PC Games - Digital', 'Payment cards (Cinema, Music, Games)', 'Payment Cards - Live!', 'Payment Cards - Live! (Numeral)', 'Payment Cards - PSN', 'Payment Cards - Windows (Digital)', 'Cinema - Blu-Ray', 'The Movie - Blu-Ray 3D', 'Cinema - Blu-Ray 4K', 'Cinema - DVD', 'Cinema - Collection', 'Books - Artbooks, encyclopedias', 'Books - Audiobooks', 'Books - Audiobooks (Figure)', 'Books - Audiobooks 1C', 'Books - Business Literature', 'Books - Comics, Manga', 'Books - Computer Literature', 'Books - Methodical materials 1C', 'Books - Postcards', 'Books - Cognitive Literature', 'Книги - Путеводители', 'Books - Fiction', 'Books - The Figure', 'Music - Local Production CD', 'Music - CD branded production', 'Music - MP3', 'Music - Vinyl', 'Music - Music Video', 'Music - Gift Edition', 'Gifts - Attributes', 'Gifts - Gadgets, Robots, Sports', 'Gifts - Soft Toys', 'Gifts - Board Games', 'Gifts - Board Games (Compact)', 'Gifts - Cards, stickers', 'Gifts - Development', 'Gifts - Certificates, Services', 'Gifts - Souvenirs', 'Gifts - Souvenirs (in a hitch)', 'Gifts - Bags, Albums, Mouse pads', 'Gifts - Figures', 'Programs - 1C: Enterprise 8', 'Programs - MAC (Digit)', 'Programs - Home and Office', 'Programs - Home and Office (Digital)', 'Programs - Educational', 'Programs - Educational (Figure)', 'Service', 'Service Tickets', 'Clean media (spire)', 'Clean Media (Piece)', 'Batteries']\n"
     ]
    }
   ],
   "source": [
    "from py_translator import Translator\n",
    "\n",
    "l_cat = list(item_categories.item_category_name)\n",
    "l_cat_en = []\n",
    "l_cat_tr = Translator().translate(l_cat, dest='en')\n",
    "for tr in l_cat_tr:\n",
    "    l_cat_en.append(tr.text)\n",
    "print(l_cat_en)"
   ]
  },
  {
   "cell_type": "code",
   "execution_count": 39,
   "metadata": {},
   "outputs": [],
   "source": [
    "for l,i in enumerate(l_cat_en):\n",
    "    if l in replacements:\n",
    "        l_cat_en[i] = replacements[l]"
   ]
  },
  {
   "cell_type": "code",
   "execution_count": 42,
   "metadata": {},
   "outputs": [],
   "source": [
    "l_cat_en[0] = 'PC Headsets / Headphones'"
   ]
  },
  {
   "cell_type": "code",
   "execution_count": 51,
   "metadata": {},
   "outputs": [],
   "source": [
    "catgs = pd.DataFrame({'catg_en':l_cat_en})"
   ]
  },
  {
   "cell_type": "code",
   "execution_count": 57,
   "metadata": {},
   "outputs": [],
   "source": [
    "catgs['catg_en_b'] = catgs.catg_en.apply(lambda x: x.split(\" -\")[0])"
   ]
  },
  {
   "cell_type": "code",
   "execution_count": 66,
   "metadata": {},
   "outputs": [],
   "source": [
    "catgs.catg_en_b[13:17] = 'Game Consoles'"
   ]
  },
  {
   "cell_type": "code",
   "execution_count": null,
   "metadata": {},
   "outputs": [],
   "source": []
  },
  {
   "cell_type": "code",
   "execution_count": 78,
   "metadata": {},
   "outputs": [
    {
     "data": {
      "text/plain": [
       "['PC Headsets / Headphones',\n",
       " 'Accessories',\n",
       " 'Accessories',\n",
       " 'Accessories',\n",
       " 'Accessories',\n",
       " 'Accessories',\n",
       " 'Accessories',\n",
       " 'Accessories',\n",
       " 'Tickets (Digital)',\n",
       " 'Delivery of goods',\n",
       " 'Game Consoles',\n",
       " 'Game Consoles',\n",
       " 'Game Consoles',\n",
       " 'Game Consoles',\n",
       " 'Game Consoles',\n",
       " 'Game Consoles',\n",
       " 'Game Consoles',\n",
       " 'Game Consoles',\n",
       " 'Games',\n",
       " 'Games',\n",
       " 'Games',\n",
       " 'Games',\n",
       " 'Games',\n",
       " 'Games',\n",
       " 'Games',\n",
       " 'Games',\n",
       " 'Android Games',\n",
       " 'MAC Games',\n",
       " 'PC Games',\n",
       " 'PC Games',\n",
       " 'PC Games',\n",
       " 'PC Games',\n",
       " 'Payment cards (Cinema, Music, Games)',\n",
       " 'Payment Cards',\n",
       " 'Payment Cards',\n",
       " 'Payment Cards',\n",
       " 'Payment Cards',\n",
       " 'Cinema',\n",
       " 'The Movie',\n",
       " 'Cinema',\n",
       " 'Cinema',\n",
       " 'Cinema',\n",
       " 'Books',\n",
       " 'Books',\n",
       " 'Books',\n",
       " 'Books',\n",
       " 'Books',\n",
       " 'Books',\n",
       " 'Books',\n",
       " 'Books',\n",
       " 'Books',\n",
       " 'Books',\n",
       " 'Книги',\n",
       " 'Books',\n",
       " 'Books',\n",
       " 'Music',\n",
       " 'Music',\n",
       " 'Music',\n",
       " 'Music',\n",
       " 'Music',\n",
       " 'Music',\n",
       " 'Gifts',\n",
       " 'Gifts',\n",
       " 'Gifts',\n",
       " 'Gifts',\n",
       " 'Gifts',\n",
       " 'Gifts',\n",
       " 'Gifts',\n",
       " 'Gifts',\n",
       " 'Gifts',\n",
       " 'Gifts',\n",
       " 'Gifts',\n",
       " 'Gifts',\n",
       " 'Programs',\n",
       " 'Programs',\n",
       " 'Programs',\n",
       " 'Programs',\n",
       " 'Programs',\n",
       " 'Programs',\n",
       " 'Service',\n",
       " 'Service Tickets',\n",
       " 'Clean media (spire)',\n",
       " 'Clean Media (Piece)',\n",
       " 'Batteries']"
      ]
     },
     "execution_count": 78,
     "metadata": {},
     "output_type": "execute_result"
    }
   ],
   "source": [
    "list(catgs.catg_en_b)"
   ]
  },
  {
   "cell_type": "code",
   "execution_count": 74,
   "metadata": {},
   "outputs": [
    {
     "data": {
      "text/plain": [
       "['PC Headsets / Headphones',\n",
       " 'Accessories - PS2',\n",
       " 'Accessories - PS3',\n",
       " 'Accessories - PS4',\n",
       " 'Accessories - PSP',\n",
       " 'Accessories - PSVita',\n",
       " 'Accessories - XBOX 360',\n",
       " 'Accessories - XBOX ONE',\n",
       " 'Tickets (Digital)',\n",
       " 'Delivery of goods',\n",
       " 'Game Consoles - PS2',\n",
       " 'Game Consoles - PS3',\n",
       " 'Game Consoles - PS4',\n",
       " 'Gaming Consoles - PSP',\n",
       " 'Game Consoles - PSVita',\n",
       " 'Gaming Consoles - XBOX 360',\n",
       " 'Gaming Consoles - XBOX ONE',\n",
       " 'Game Consoles - Other',\n",
       " 'Games - PS2',\n",
       " 'Games - PS3',\n",
       " 'Games - PS4',\n",
       " 'Games - PSP',\n",
       " 'Games - PSVita',\n",
       " 'Games - XBOX 360',\n",
       " 'Games - XBOX ONE',\n",
       " 'Games - Accessories for games',\n",
       " 'Android Games - Digital',\n",
       " 'MAC Games - Digit',\n",
       " 'PC Games - Additional Editions',\n",
       " 'PC Games - Collectible Editions',\n",
       " 'PC Games - Standard Editions',\n",
       " 'PC Games - Digital',\n",
       " 'Payment cards (Cinema, Music, Games)',\n",
       " 'Payment Cards - Live!',\n",
       " 'Payment Cards - Live! (Numeral)',\n",
       " 'Payment Cards - PSN',\n",
       " 'Payment Cards - Windows (Digital)',\n",
       " 'Cinema - Blu-Ray',\n",
       " 'The Movie - Blu-Ray 3D',\n",
       " 'Cinema - Blu-Ray 4K',\n",
       " 'Cinema - DVD',\n",
       " 'Cinema - Collection',\n",
       " 'Books - Artbooks, encyclopedias',\n",
       " 'Books - Audiobooks',\n",
       " 'Books - Audiobooks (Figure)',\n",
       " 'Books - Audiobooks 1C',\n",
       " 'Books - Business Literature',\n",
       " 'Books - Comics, Manga',\n",
       " 'Books - Computer Literature',\n",
       " 'Books - Methodical materials 1C',\n",
       " 'Books - Postcards',\n",
       " 'Books - Cognitive Literature',\n",
       " 'Книги - Путеводители',\n",
       " 'Books - Fiction',\n",
       " 'Books - The Figure',\n",
       " 'Music - Local Production CD',\n",
       " 'Music - CD branded production',\n",
       " 'Music - MP3',\n",
       " 'Music - Vinyl',\n",
       " 'Music - Music Video',\n",
       " 'Music - Gift Edition',\n",
       " 'Gifts - Attributes',\n",
       " 'Gifts - Gadgets, Robots, Sports',\n",
       " 'Gifts - Soft Toys',\n",
       " 'Gifts - Board Games',\n",
       " 'Gifts - Board Games (Compact)',\n",
       " 'Gifts - Cards, stickers',\n",
       " 'Gifts - Development',\n",
       " 'Gifts - Certificates, Services',\n",
       " 'Gifts - Souvenirs',\n",
       " 'Gifts - Souvenirs (in a hitch)',\n",
       " 'Gifts - Bags, Albums, Mouse pads',\n",
       " 'Gifts - Figures',\n",
       " 'Programs - 1C: Enterprise 8',\n",
       " 'Programs - MAC (Digit)',\n",
       " 'Programs - Home and Office',\n",
       " 'Programs - Home and Office (Digital)',\n",
       " 'Programs - Educational',\n",
       " 'Programs - Educational (Figure)',\n",
       " 'Service',\n",
       " 'Service Tickets',\n",
       " 'Clean media (spire)',\n",
       " 'Clean Media (Piece)',\n",
       " 'Batteries']"
      ]
     },
     "execution_count": 74,
     "metadata": {},
     "output_type": "execute_result"
    }
   ],
   "source": [
    "list(catgs.catg_en)"
   ]
  },
  {
   "cell_type": "code",
   "execution_count": 56,
   "metadata": {},
   "outputs": [],
   "source": [
    "# Fix category\n",
    "item_cat = pd.read_csv('data/item_categories.csv')\n",
    "\n",
    "\n",
    "for ind in range(0,1):\n",
    "    l_cat[ind] = 'PC Headsets / Headphones'\n",
    "for ind in range(1,8):\n",
    "    l_cat[ind] = 'Access'\n",
    "l_cat[8] = 'Tickets (figure)'\n",
    "l_cat[9] = 'Delivery of goods'\n",
    "for ind in range(10,18):\n",
    "    l_cat[ind] = 'Consoles'\n",
    "for ind in range(18,25):\n",
    "    l_cat[ind] = 'Consoles Games'\n",
    "l_cat[25] = 'Accessories for games'\n",
    "for ind in range(26,28):\n",
    "    l_cat[ind] = 'phone games'\n",
    "for ind in range(28,32):\n",
    "    l_cat[ind] = 'CD games'\n",
    "for ind in range(32,37):\n",
    "    l_cat[ind] = 'Card'\n",
    "for ind in range(37,43):\n",
    "    l_cat[ind] = 'Movie'\n",
    "for ind in range(43,55):\n",
    "    l_cat[ind] = 'Books'\n",
    "for ind in range(55,61):\n",
    "    l_cat[ind] = 'Music'\n",
    "for ind in range(61,73):\n",
    "    l_cat[ind] = 'Gifts'\n",
    "for ind in range(73,79):\n",
    "    l_cat[ind] = 'Soft'\n",
    "for ind in range(79,81):\n",
    "    l_cat[ind] = 'Office'\n",
    "for ind in range(81,83):\n",
    "    l_cat[ind] = 'Clean'\n",
    "l_cat[83] = 'Elements of a food'"
   ]
  },
  {
   "cell_type": "code",
   "execution_count": null,
   "metadata": {},
   "outputs": [],
   "source": []
  },
  {
   "cell_type": "code",
   "execution_count": 34,
   "metadata": {},
   "outputs": [
    {
     "ename": "NameError",
     "evalue": "name 'item_cat' is not defined",
     "output_type": "error",
     "traceback": [
      "\u001b[0;31m---------------------------------------------------------------------------\u001b[0m",
      "\u001b[0;31mNameError\u001b[0m                                 Traceback (most recent call last)",
      "\u001b[0;32m<ipython-input-34-11fab86dfd3c>\u001b[0m in \u001b[0;36m<module>\u001b[0;34m\u001b[0m\n\u001b[1;32m      1\u001b[0m \u001b[0;34m\u001b[0m\u001b[0m\n\u001b[1;32m      2\u001b[0m \u001b[0mlb\u001b[0m \u001b[0;34m=\u001b[0m \u001b[0mpreprocessing\u001b[0m\u001b[0;34m.\u001b[0m\u001b[0mLabelEncoder\u001b[0m\u001b[0;34m(\u001b[0m\u001b[0;34m)\u001b[0m\u001b[0;34m\u001b[0m\u001b[0;34m\u001b[0m\u001b[0m\n\u001b[0;32m----> 3\u001b[0;31m \u001b[0mitem_cat\u001b[0m\u001b[0;34m[\u001b[0m\u001b[0;34m'item_category_id_fix'\u001b[0m\u001b[0;34m]\u001b[0m \u001b[0;34m=\u001b[0m \u001b[0mlb\u001b[0m\u001b[0;34m.\u001b[0m\u001b[0mfit_transform\u001b[0m\u001b[0;34m(\u001b[0m\u001b[0ml_cat\u001b[0m\u001b[0;34m)\u001b[0m\u001b[0;34m\u001b[0m\u001b[0;34m\u001b[0m\u001b[0m\n\u001b[0m\u001b[1;32m      4\u001b[0m \u001b[0mitem_cat\u001b[0m\u001b[0;34m[\u001b[0m\u001b[0;34m'item_category_name_fix'\u001b[0m\u001b[0;34m]\u001b[0m \u001b[0;34m=\u001b[0m \u001b[0ml_cat\u001b[0m\u001b[0;34m\u001b[0m\u001b[0;34m\u001b[0m\u001b[0m\n\u001b[1;32m      5\u001b[0m \u001b[0mtrain_test_set\u001b[0m \u001b[0;34m=\u001b[0m \u001b[0mtrain_test_set\u001b[0m\u001b[0;34m.\u001b[0m\u001b[0mmerge\u001b[0m\u001b[0;34m(\u001b[0m\u001b[0mitem_cat\u001b[0m\u001b[0;34m[\u001b[0m\u001b[0;34m[\u001b[0m\u001b[0;34m'item_category_id'\u001b[0m\u001b[0;34m,\u001b[0m \u001b[0;34m'item_category_id_fix'\u001b[0m\u001b[0;34m]\u001b[0m\u001b[0;34m]\u001b[0m\u001b[0;34m,\u001b[0m \u001b[0mon\u001b[0m \u001b[0;34m=\u001b[0m \u001b[0;34m'item_category_id'\u001b[0m\u001b[0;34m,\u001b[0m \u001b[0mhow\u001b[0m \u001b[0;34m=\u001b[0m \u001b[0;34m'left'\u001b[0m\u001b[0;34m)\u001b[0m\u001b[0;34m\u001b[0m\u001b[0;34m\u001b[0m\u001b[0m\n",
      "\u001b[0;31mNameError\u001b[0m: name 'item_cat' is not defined"
     ]
    }
   ],
   "source": [
    "\n",
    "lb = preprocessing.LabelEncoder()\n",
    "item_cat['item_category_id_fix'] = lb.fit_transform(l_cat)\n",
    "item_cat['item_category_name_fix'] = l_cat\n",
    "train_test_set = train_test_set.merge(item_cat[['item_category_id', 'item_category_id_fix']], on = 'item_category_id', how = 'left')\n",
    "_ = train_test_set.drop(['item_category_id'],axis=1, inplace=True)\n",
    "train_test_set.rename(columns = {'item_category_id_fix':'item_category_id'}, inplace = True)\n",
    "\n",
    "_ = item_cat.drop(['item_category_id'],axis=1, inplace=True)\n",
    "_ = item_cat.drop(['item_category_name'],axis=1, inplace=True)\n",
    "\n",
    "item_cat.rename(columns = {'item_category_id_fix':'item_category_id'}, inplace = True)\n",
    "item_cat.rename(columns = {'item_category_name_fix':'item_category_name'}, inplace = True)\n",
    "item_cat = item_cat.drop_duplicates()\n",
    "item_cat.index = np.arange(0, len(item_cat))"
   ]
  },
  {
   "cell_type": "markdown",
   "metadata": {},
   "source": [
    "###### Idea 0: Add previous shop/item sales as feature (Lag feature)"
   ]
  },
  {
   "cell_type": "markdown",
   "metadata": {},
   "source": [
    "###### Idea 1: Add previous item sales as feature (Lag feature)"
   ]
  },
  {
   "cell_type": "markdown",
   "metadata": {},
   "source": [
    "###### Idea 2: Add previous shop/item price as feature (Lag feature)"
   ]
  },
  {
   "cell_type": "markdown",
   "metadata": {},
   "source": [
    "###### Idea 3: Add previous item price as feature (Lag feature)"
   ]
  },
  {
   "cell_type": "markdown",
   "metadata": {},
   "source": [
    "###### Idea 6: Number of month from last sale of shop/item (Use info from past)"
   ]
  },
  {
   "cell_type": "markdown",
   "metadata": {},
   "source": [
    "###### Idea 7: Number of month from last sale of item(Use info from past)"
   ]
  },
  {
   "cell_type": "markdown",
   "metadata": {},
   "source": [
    "###### Idea 8: Item name (Tfidf text feature)"
   ]
  },
  {
   "cell_type": "markdown",
   "metadata": {},
   "source": [
    "###### Cross Validation (Hyperparameter tuning)"
   ]
  },
  {
   "cell_type": "code",
   "execution_count": null,
   "metadata": {},
   "outputs": [],
   "source": []
  }
 ],
 "metadata": {
  "kernelspec": {
   "display_name": "Python 3",
   "language": "python",
   "name": "python3"
  },
  "language_info": {
   "codemirror_mode": {
    "name": "ipython",
    "version": 3
   },
   "file_extension": ".py",
   "mimetype": "text/x-python",
   "name": "python",
   "nbconvert_exporter": "python",
   "pygments_lexer": "ipython3",
   "version": "3.6.6"
  }
 },
 "nbformat": 4,
 "nbformat_minor": 2
}
