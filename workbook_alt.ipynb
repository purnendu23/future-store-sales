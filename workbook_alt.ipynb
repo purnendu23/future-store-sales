{
 "cells": [
  {
   "cell_type": "code",
   "execution_count": 1,
   "metadata": {},
   "outputs": [],
   "source": [
    "from datetime import datetime, timedelta, date\n",
    "from calendar import monthrange\n",
    "# from pytz import timezone\n",
    "import pandas as pd\n",
    "import numpy as np\n",
    "#import feather\n",
    "import datetime \n",
    "import pytz\n",
    "import csv\n",
    "import os\n",
    "#import seaborn as sns\n",
    "#import matplotlib.pyplot as plt\n",
    "import logging\n",
    "\n",
    "import xgboost as xgb\n",
    "import time\n",
    "from sklearn.pipeline import *\n",
    "\n",
    "from joblib import dump, load\n",
    "from math import sqrt\n",
    "from numpy import loadtxt\n",
    "from itertools import product\n",
    "from tqdm import tqdm\n",
    "import datetime\n",
    "from sklearn import preprocessing\n",
    "from xgboost import plot_tree\n",
    "\n",
    "from sklearn.model_selection import train_test_split\n",
    "from sklearn.metrics import accuracy_score\n",
    "from sklearn.metrics import mean_squared_error\n",
    "from sklearn.model_selection import KFold\n",
    "from sklearn.feature_extraction.text import TfidfVectorizer\n",
    "\n",
    "kernel_with_output = False\n",
    "\n",
    "import warnings\n",
    "warnings.filterwarnings(\"ignore\")\n",
    "\n",
    "from utils import *\n",
    "from feature_engg_utils import *\n",
    "\n",
    "#%matplotlib inline\n",
    "\n",
    "logging.basicConfig(format='%(asctime)s : %(levelname)s : %(message)s', level=logging.INFO)\n"
   ]
  },
  {
   "cell_type": "code",
   "execution_count": 10,
   "metadata": {},
   "outputs": [],
   "source": []
  },
  {
   "cell_type": "code",
   "execution_count": 2,
   "metadata": {},
   "outputs": [],
   "source": [
    "# https://www.kaggle.com/szhou42/predict-future-sales-top-11-solution\n",
    "\n",
    "# scp jini:/home/ubuntu/future-store-sales/submissions/xgb_base_submission.csv ~/Documents/reading_training/future-store-sales/submissions/."
   ]
  },
  {
   "cell_type": "code",
   "execution_count": 2,
   "metadata": {},
   "outputs": [],
   "source": [
    "DATA_DIR = './data/'\n",
    "RESOURCES_DIR = './res/'\n",
    "SUBMISSION_DIR = './submissions'\n",
    "MODEL_DIR = './models'\n",
    "\n",
    "sales = pd.read_csv(os.path.join(DATA_DIR, 'sales_train.csv.gz'))\n",
    "items = pd.read_csv(os.path.join(DATA_DIR, 'items.csv'))\n",
    "shops = pd.read_csv(os.path.join(DATA_DIR, 'shops.csv'))\n",
    "item_categories = pd.read_csv(os.path.join(DATA_DIR, 'item_categories.csv'))\n",
    "sample_submission = pd.read_csv(os.path.join(DATA_DIR, 'sample_submission.csv.gz'))\n",
    "test = pd.read_csv(os.path.join(DATA_DIR, 'test.csv.gz')) \n",
    "\n",
    "date_df = pd.read_pickle(os.path.join(RESOURCES_DIR, \"russian_holidays.pkl\"))\n",
    "geography = pd.read_csv(os.path.join(RESOURCES_DIR, 'geography.csv'))\n",
    "#holidays = feather.read_dataframe(os.path.join(ADD_RESOURCES, 'hol.feather'))"
   ]
  },
  {
   "cell_type": "code",
   "execution_count": 3,
   "metadata": {},
   "outputs": [],
   "source": [
    "# For every month we create a grid from all shops/items combinations from that month\n",
    "\n",
    "grid = []\n",
    "for block_num in sales.date_block_num.unique():\n",
    "    cur_shops = sales[sales.date_block_num == block_num]['shop_id'].unique()\n",
    "    cur_items = sales[sales.date_block_num == block_num]['item_id'].unique()\n",
    "    \n",
    "    # cartesian product of shops, items with the block number \n",
    "    l = list( product(*[cur_shops, cur_items, [block_num]]) ) # sample l[0:2] -> [(45, 13315, 33), (45, 13881, 33)]\n",
    "    \n",
    "    grid.append(np.array(l , dtype='int32'))\n",
    "    # np-array looks like this:\n",
    "        #     array([[   45, 13315,    33],\n",
    "        #        [   45, 13880,    33],\n",
    "        #        [   45, 13881,    33],\n",
    "        #        ...,\n",
    "        #        [   21,  7640,    33],\n",
    "        #        [   21,  7632,    33],\n",
    "        #        [   21,  7440,    33]], dtype=int32)\n",
    "    # right now, 'grid' -> is a list of np-arrays\n",
    "\n",
    "index_cols = ['shop_id', 'item_id', 'date_block_num']\n",
    "# np.vstack is used to unpack the rows from all np.arrays and put into a single array\n",
    "grid = pd.DataFrame(np.vstack(grid), columns = index_cols,dtype=np.int32) "
   ]
  },
  {
   "cell_type": "code",
   "execution_count": 3,
   "metadata": {},
   "outputs": [
    {
     "data": {
      "text/html": [
       "<div>\n",
       "<style scoped>\n",
       "    .dataframe tbody tr th:only-of-type {\n",
       "        vertical-align: middle;\n",
       "    }\n",
       "\n",
       "    .dataframe tbody tr th {\n",
       "        vertical-align: top;\n",
       "    }\n",
       "\n",
       "    .dataframe thead th {\n",
       "        text-align: right;\n",
       "    }\n",
       "</style>\n",
       "<table border=\"1\" class=\"dataframe\">\n",
       "  <thead>\n",
       "    <tr style=\"text-align: right;\">\n",
       "      <th></th>\n",
       "      <th>date</th>\n",
       "      <th>date_block_num</th>\n",
       "      <th>shop_id</th>\n",
       "      <th>item_id</th>\n",
       "      <th>item_price</th>\n",
       "      <th>item_cnt_day</th>\n",
       "    </tr>\n",
       "  </thead>\n",
       "  <tbody>\n",
       "    <tr>\n",
       "      <th>0</th>\n",
       "      <td>02.01.2013</td>\n",
       "      <td>0</td>\n",
       "      <td>59</td>\n",
       "      <td>22154</td>\n",
       "      <td>999.00</td>\n",
       "      <td>1.0</td>\n",
       "    </tr>\n",
       "    <tr>\n",
       "      <th>1</th>\n",
       "      <td>03.01.2013</td>\n",
       "      <td>0</td>\n",
       "      <td>25</td>\n",
       "      <td>2552</td>\n",
       "      <td>899.00</td>\n",
       "      <td>1.0</td>\n",
       "    </tr>\n",
       "    <tr>\n",
       "      <th>2</th>\n",
       "      <td>05.01.2013</td>\n",
       "      <td>0</td>\n",
       "      <td>25</td>\n",
       "      <td>2552</td>\n",
       "      <td>899.00</td>\n",
       "      <td>-1.0</td>\n",
       "    </tr>\n",
       "    <tr>\n",
       "      <th>3</th>\n",
       "      <td>06.01.2013</td>\n",
       "      <td>0</td>\n",
       "      <td>25</td>\n",
       "      <td>2554</td>\n",
       "      <td>1709.05</td>\n",
       "      <td>1.0</td>\n",
       "    </tr>\n",
       "    <tr>\n",
       "      <th>4</th>\n",
       "      <td>15.01.2013</td>\n",
       "      <td>0</td>\n",
       "      <td>25</td>\n",
       "      <td>2555</td>\n",
       "      <td>1099.00</td>\n",
       "      <td>1.0</td>\n",
       "    </tr>\n",
       "  </tbody>\n",
       "</table>\n",
       "</div>"
      ],
      "text/plain": [
       "         date  date_block_num  shop_id  item_id  item_price  item_cnt_day\n",
       "0  02.01.2013               0       59    22154      999.00           1.0\n",
       "1  03.01.2013               0       25     2552      899.00           1.0\n",
       "2  05.01.2013               0       25     2552      899.00          -1.0\n",
       "3  06.01.2013               0       25     2554     1709.05           1.0\n",
       "4  15.01.2013               0       25     2555     1099.00           1.0"
      ]
     },
     "execution_count": 3,
     "metadata": {},
     "output_type": "execute_result"
    }
   ],
   "source": [
    "sales.head()"
   ]
  },
  {
   "cell_type": "code",
   "execution_count": 4,
   "metadata": {},
   "outputs": [],
   "source": [
    "# # Aggregations\n",
    "# sales['item_cnt_day'] = sales['item_cnt_day'].clip(0,20) # we say no-item sells more than 20 everyday\n",
    "\n",
    "# groups = sales.groupby(['shop_id', 'item_id', 'date_block_num'])\n",
    "\n",
    "# monthly_sales = groups.agg({'item_cnt_day':'sum', 'item_price':'mean'}).reset_index()\n",
    "# monthly_sales = monthly_sales.rename(columns = {'item_cnt_day' : 'item_cnt_month',\n",
    "#                                       'item_price' : 'avg_item_price'})\n",
    "\n",
    "# monthly_sales['item_cnt_month'] = monthly_sales['item_cnt_month'].clip(0,20)\n",
    "\n",
    "# monthly_sales = pd.merge(grid,monthly_sales,how='left',on=index_cols)\n",
    "# monthly_sales.item_cnt_month = monthly_sales.item_cnt_month.fillna(0)\n",
    "\n",
    "# # Get category id\n",
    "# monthly_sales = pd.merge(monthly_sales, items[['item_id', 'item_category_id']], on = 'item_id')\n",
    "# monthly_sales.to_csv('monthly_sales.csv', index_label=False)\n",
    "\n",
    "# monthly_sales.head()"
   ]
  },
  {
   "cell_type": "code",
   "execution_count": 4,
   "metadata": {},
   "outputs": [
    {
     "data": {
      "text/html": [
       "<div>\n",
       "<style scoped>\n",
       "    .dataframe tbody tr th:only-of-type {\n",
       "        vertical-align: middle;\n",
       "    }\n",
       "\n",
       "    .dataframe tbody tr th {\n",
       "        vertical-align: top;\n",
       "    }\n",
       "\n",
       "    .dataframe thead th {\n",
       "        text-align: right;\n",
       "    }\n",
       "</style>\n",
       "<table border=\"1\" class=\"dataframe\">\n",
       "  <thead>\n",
       "    <tr style=\"text-align: right;\">\n",
       "      <th></th>\n",
       "      <th>shop_id</th>\n",
       "      <th>item_id</th>\n",
       "      <th>date_block_num</th>\n",
       "      <th>item_cnt_month</th>\n",
       "      <th>avg_item_price</th>\n",
       "      <th>item_category_id</th>\n",
       "    </tr>\n",
       "  </thead>\n",
       "  <tbody>\n",
       "    <tr>\n",
       "      <th>0</th>\n",
       "      <td>59</td>\n",
       "      <td>22154</td>\n",
       "      <td>0</td>\n",
       "      <td>1.0</td>\n",
       "      <td>999.0</td>\n",
       "      <td>37</td>\n",
       "    </tr>\n",
       "    <tr>\n",
       "      <th>1</th>\n",
       "      <td>25</td>\n",
       "      <td>22154</td>\n",
       "      <td>0</td>\n",
       "      <td>5.0</td>\n",
       "      <td>999.0</td>\n",
       "      <td>37</td>\n",
       "    </tr>\n",
       "    <tr>\n",
       "      <th>2</th>\n",
       "      <td>24</td>\n",
       "      <td>22154</td>\n",
       "      <td>0</td>\n",
       "      <td>1.0</td>\n",
       "      <td>999.0</td>\n",
       "      <td>37</td>\n",
       "    </tr>\n",
       "    <tr>\n",
       "      <th>3</th>\n",
       "      <td>23</td>\n",
       "      <td>22154</td>\n",
       "      <td>0</td>\n",
       "      <td>0.0</td>\n",
       "      <td>NaN</td>\n",
       "      <td>37</td>\n",
       "    </tr>\n",
       "    <tr>\n",
       "      <th>4</th>\n",
       "      <td>19</td>\n",
       "      <td>22154</td>\n",
       "      <td>0</td>\n",
       "      <td>0.0</td>\n",
       "      <td>NaN</td>\n",
       "      <td>37</td>\n",
       "    </tr>\n",
       "  </tbody>\n",
       "</table>\n",
       "</div>"
      ],
      "text/plain": [
       "   shop_id  item_id  date_block_num  item_cnt_month  avg_item_price  \\\n",
       "0       59    22154               0             1.0           999.0   \n",
       "1       25    22154               0             5.0           999.0   \n",
       "2       24    22154               0             1.0           999.0   \n",
       "3       23    22154               0             0.0             NaN   \n",
       "4       19    22154               0             0.0             NaN   \n",
       "\n",
       "   item_category_id  \n",
       "0                37  \n",
       "1                37  \n",
       "2                37  \n",
       "3                37  \n",
       "4                37  "
      ]
     },
     "execution_count": 4,
     "metadata": {},
     "output_type": "execute_result"
    }
   ],
   "source": [
    "monthly_sales = pd.read_csv(\"./monthly_sales.csv\")\n",
    "monthly_sales.head()"
   ]
  },
  {
   "cell_type": "code",
   "execution_count": 5,
   "metadata": {},
   "outputs": [
    {
     "data": {
      "text/html": [
       "<div>\n",
       "<style scoped>\n",
       "    .dataframe tbody tr th:only-of-type {\n",
       "        vertical-align: middle;\n",
       "    }\n",
       "\n",
       "    .dataframe tbody tr th {\n",
       "        vertical-align: top;\n",
       "    }\n",
       "\n",
       "    .dataframe thead th {\n",
       "        text-align: right;\n",
       "    }\n",
       "</style>\n",
       "<table border=\"1\" class=\"dataframe\">\n",
       "  <thead>\n",
       "    <tr style=\"text-align: right;\">\n",
       "      <th></th>\n",
       "      <th>ID</th>\n",
       "      <th>shop_id</th>\n",
       "      <th>item_id</th>\n",
       "    </tr>\n",
       "  </thead>\n",
       "  <tbody>\n",
       "    <tr>\n",
       "      <th>0</th>\n",
       "      <td>0</td>\n",
       "      <td>5</td>\n",
       "      <td>5037</td>\n",
       "    </tr>\n",
       "    <tr>\n",
       "      <th>1</th>\n",
       "      <td>1</td>\n",
       "      <td>5</td>\n",
       "      <td>5320</td>\n",
       "    </tr>\n",
       "    <tr>\n",
       "      <th>2</th>\n",
       "      <td>2</td>\n",
       "      <td>5</td>\n",
       "      <td>5233</td>\n",
       "    </tr>\n",
       "    <tr>\n",
       "      <th>3</th>\n",
       "      <td>3</td>\n",
       "      <td>5</td>\n",
       "      <td>5232</td>\n",
       "    </tr>\n",
       "    <tr>\n",
       "      <th>4</th>\n",
       "      <td>4</td>\n",
       "      <td>5</td>\n",
       "      <td>5268</td>\n",
       "    </tr>\n",
       "  </tbody>\n",
       "</table>\n",
       "</div>"
      ],
      "text/plain": [
       "   ID  shop_id  item_id\n",
       "0   0        5     5037\n",
       "1   1        5     5320\n",
       "2   2        5     5233\n",
       "3   3        5     5232\n",
       "4   4        5     5268"
      ]
     },
     "execution_count": 5,
     "metadata": {},
     "output_type": "execute_result"
    }
   ],
   "source": [
    "test.head()"
   ]
  },
  {
   "cell_type": "markdown",
   "metadata": {},
   "source": [
    "#### Benchmark submission"
   ]
  },
  {
   "cell_type": "code",
   "execution_count": 6,
   "metadata": {},
   "outputs": [],
   "source": [
    "# submission_filename = \"benchmark_submission.csv\"\n",
    "# train = monthly_sales\n",
    "# last_month = train[train.date_block_num==33]\n",
    "# last_month = last_month.groupby(['shop_id', 'item_id']).agg({'item_cnt_month':'mean'}).reset_index()\n",
    "\n",
    "# submission = test.merge(last_month,on=['shop_id', 'item_id'] , how='left', indicator=True)\n",
    "# submission['item_cnt_month'] = submission.item_cnt_month.fillna(0)\n",
    "# print(submission.shape)\n",
    "\n",
    "# submission.drop(columns=['shop_id', 'item_id', '_merge'], inplace=True)\n",
    "# submission = submission.set_index('ID')\n",
    "\n",
    "# print(submission.head())\n",
    "# submission.to_csv(os.path.join(SUBMISSION_DIR, submission_filename))"
   ]
  },
  {
   "cell_type": "markdown",
   "metadata": {},
   "source": [
    "##### Fix category"
   ]
  },
  {
   "cell_type": "code",
   "execution_count": 6,
   "metadata": {},
   "outputs": [
    {
     "data": {
      "text/html": [
       "<div>\n",
       "<style scoped>\n",
       "    .dataframe tbody tr th:only-of-type {\n",
       "        vertical-align: middle;\n",
       "    }\n",
       "\n",
       "    .dataframe tbody tr th {\n",
       "        vertical-align: top;\n",
       "    }\n",
       "\n",
       "    .dataframe thead th {\n",
       "        text-align: right;\n",
       "    }\n",
       "</style>\n",
       "<table border=\"1\" class=\"dataframe\">\n",
       "  <thead>\n",
       "    <tr style=\"text-align: right;\">\n",
       "      <th></th>\n",
       "      <th>item_category_name</th>\n",
       "      <th>item_category_id</th>\n",
       "      <th>new_catg</th>\n",
       "    </tr>\n",
       "  </thead>\n",
       "  <tbody>\n",
       "    <tr>\n",
       "      <th>0</th>\n",
       "      <td>PC - Гарнитуры/Наушники</td>\n",
       "      <td>0</td>\n",
       "      <td>PC Headsets / Headphones</td>\n",
       "    </tr>\n",
       "    <tr>\n",
       "      <th>1</th>\n",
       "      <td>Аксессуары - PS2</td>\n",
       "      <td>1</td>\n",
       "      <td>Access</td>\n",
       "    </tr>\n",
       "    <tr>\n",
       "      <th>2</th>\n",
       "      <td>Аксессуары - PS3</td>\n",
       "      <td>2</td>\n",
       "      <td>Access</td>\n",
       "    </tr>\n",
       "    <tr>\n",
       "      <th>3</th>\n",
       "      <td>Аксессуары - PS4</td>\n",
       "      <td>3</td>\n",
       "      <td>Access</td>\n",
       "    </tr>\n",
       "    <tr>\n",
       "      <th>4</th>\n",
       "      <td>Аксессуары - PSP</td>\n",
       "      <td>4</td>\n",
       "      <td>Access</td>\n",
       "    </tr>\n",
       "  </tbody>\n",
       "</table>\n",
       "</div>"
      ],
      "text/plain": [
       "        item_category_name  item_category_id                  new_catg\n",
       "0  PC - Гарнитуры/Наушники                 0  PC Headsets / Headphones\n",
       "1         Аксессуары - PS2                 1                    Access\n",
       "2         Аксессуары - PS3                 2                    Access\n",
       "3         Аксессуары - PS4                 3                    Access\n",
       "4         Аксессуары - PSP                 4                    Access"
      ]
     },
     "execution_count": 6,
     "metadata": {},
     "output_type": "execute_result"
    }
   ],
   "source": [
    "\n",
    "l_cat = list(item_categories.item_category_name)\n",
    "\n",
    "for ind in range(0,1):\n",
    "    l_cat[ind] = 'PC Headsets / Headphones'\n",
    "for ind in range(1,8):\n",
    "    l_cat[ind] = 'Access'\n",
    "l_cat[8] = 'Tickets (figure)'\n",
    "l_cat[9] = 'Delivery of goods'\n",
    "for ind in range(10,18):\n",
    "    l_cat[ind] = 'Consoles'\n",
    "for ind in range(18,25):\n",
    "    l_cat[ind] = 'Consoles Games'\n",
    "l_cat[25] = 'Accessories for games'\n",
    "for ind in range(26,28):\n",
    "    l_cat[ind] = 'phone games'\n",
    "for ind in range(28,32):\n",
    "    l_cat[ind] = 'CD games'\n",
    "for ind in range(32,37):\n",
    "    l_cat[ind] = 'Card'\n",
    "for ind in range(37,43):\n",
    "    l_cat[ind] = 'Movie'\n",
    "for ind in range(43,55):\n",
    "    l_cat[ind] = 'Books'\n",
    "for ind in range(55,61):\n",
    "    l_cat[ind] = 'Music'\n",
    "for ind in range(61,73):\n",
    "    l_cat[ind] = 'Gifts'\n",
    "for ind in range(73,79):\n",
    "    l_cat[ind] = 'Soft'\n",
    "for ind in range(79,81):\n",
    "    l_cat[ind] = 'Office'\n",
    "for ind in range(81,83):\n",
    "    l_cat[ind] = 'Clean'\n",
    "l_cat[83] = 'Elements of a food'\n",
    "\n",
    "item_categories['new_catg'] = l_cat\n",
    "item_categories.head()"
   ]
  },
  {
   "cell_type": "markdown",
   "metadata": {},
   "source": [
    "###### Build a train_test_set for combined feature engineering"
   ]
  },
  {
   "cell_type": "code",
   "execution_count": 7,
   "metadata": {},
   "outputs": [
    {
     "name": "stdout",
     "output_type": "stream",
     "text": [
      "(11128050, 7)\n"
     ]
    },
    {
     "data": {
      "text/html": [
       "<div>\n",
       "<style scoped>\n",
       "    .dataframe tbody tr th:only-of-type {\n",
       "        vertical-align: middle;\n",
       "    }\n",
       "\n",
       "    .dataframe tbody tr th {\n",
       "        vertical-align: top;\n",
       "    }\n",
       "\n",
       "    .dataframe thead th {\n",
       "        text-align: right;\n",
       "    }\n",
       "</style>\n",
       "<table border=\"1\" class=\"dataframe\">\n",
       "  <thead>\n",
       "    <tr style=\"text-align: right;\">\n",
       "      <th></th>\n",
       "      <th>shop_id</th>\n",
       "      <th>item_id</th>\n",
       "      <th>date_block_num</th>\n",
       "      <th>item_cnt_month</th>\n",
       "      <th>avg_item_price</th>\n",
       "      <th>new_catg</th>\n",
       "      <th>item_name</th>\n",
       "    </tr>\n",
       "  </thead>\n",
       "  <tbody>\n",
       "    <tr>\n",
       "      <th>0</th>\n",
       "      <td>59</td>\n",
       "      <td>22154</td>\n",
       "      <td>0</td>\n",
       "      <td>1.0</td>\n",
       "      <td>999.0</td>\n",
       "      <td>Movie</td>\n",
       "      <td>ЯВЛЕНИЕ 2012 (BD)</td>\n",
       "    </tr>\n",
       "    <tr>\n",
       "      <th>1</th>\n",
       "      <td>25</td>\n",
       "      <td>22154</td>\n",
       "      <td>0</td>\n",
       "      <td>5.0</td>\n",
       "      <td>999.0</td>\n",
       "      <td>Movie</td>\n",
       "      <td>ЯВЛЕНИЕ 2012 (BD)</td>\n",
       "    </tr>\n",
       "    <tr>\n",
       "      <th>2</th>\n",
       "      <td>24</td>\n",
       "      <td>22154</td>\n",
       "      <td>0</td>\n",
       "      <td>1.0</td>\n",
       "      <td>999.0</td>\n",
       "      <td>Movie</td>\n",
       "      <td>ЯВЛЕНИЕ 2012 (BD)</td>\n",
       "    </tr>\n",
       "    <tr>\n",
       "      <th>3</th>\n",
       "      <td>23</td>\n",
       "      <td>22154</td>\n",
       "      <td>0</td>\n",
       "      <td>0.0</td>\n",
       "      <td>NaN</td>\n",
       "      <td>Movie</td>\n",
       "      <td>ЯВЛЕНИЕ 2012 (BD)</td>\n",
       "    </tr>\n",
       "    <tr>\n",
       "      <th>4</th>\n",
       "      <td>19</td>\n",
       "      <td>22154</td>\n",
       "      <td>0</td>\n",
       "      <td>0.0</td>\n",
       "      <td>NaN</td>\n",
       "      <td>Movie</td>\n",
       "      <td>ЯВЛЕНИЕ 2012 (BD)</td>\n",
       "    </tr>\n",
       "  </tbody>\n",
       "</table>\n",
       "</div>"
      ],
      "text/plain": [
       "   shop_id  item_id  date_block_num  item_cnt_month  avg_item_price new_catg  \\\n",
       "0       59    22154               0             1.0           999.0    Movie   \n",
       "1       25    22154               0             5.0           999.0    Movie   \n",
       "2       24    22154               0             1.0           999.0    Movie   \n",
       "3       23    22154               0             0.0             NaN    Movie   \n",
       "4       19    22154               0             0.0             NaN    Movie   \n",
       "\n",
       "           item_name  \n",
       "0  ЯВЛЕНИЕ 2012 (BD)  \n",
       "1  ЯВЛЕНИЕ 2012 (BD)  \n",
       "2  ЯВЛЕНИЕ 2012 (BD)  \n",
       "3  ЯВЛЕНИЕ 2012 (BD)  \n",
       "4  ЯВЛЕНИЕ 2012 (BD)  "
      ]
     },
     "execution_count": 7,
     "metadata": {},
     "output_type": "execute_result"
    }
   ],
   "source": [
    "train_set = monthly_sales\n",
    "test_set = test.merge(items[['item_id' , 'item_category_id']], on='item_id', how='left')\n",
    "test_set['date_block_num'] = 34\n",
    "test_set ['item_cnt_month'] = 0\n",
    "test_set['avg_item_price'] = 0\n",
    "test_set.set_index('ID', inplace=True)\n",
    "\n",
    "data = pd.concat([train_set, test_set], axis=0, ignore_index=True, sort=False)\n",
    "\n",
    "data = data.merge(item_categories, how='left', on='item_category_id', indicator=True)\n",
    "data.drop(columns=['item_category_name', '_merge','item_category_id' ], inplace=True)\n",
    "data = data.merge(items[['item_id', 'item_name']], on=['item_id'], how='left')\n",
    "print(data.shape)\n",
    "data.head()  #(11,128,050 | 7)"
   ]
  },
  {
   "cell_type": "markdown",
   "metadata": {},
   "source": [
    "#### Adding features\n",
    "1. previous shop/item sales (Lag feature)\n",
    "2. previous item sales (Lag feature)\n",
    "3. previous shop/item price (Lag feature)\n",
    "4. previous item price (Lag feature)\n",
    "5. months_from_last_shopitem_sale (Lag feature)\n",
    "6. months_from_last_item_sale (Lag feature)\n",
    "7. tf-idf word-embeddings for item_name"
   ]
  },
  {
   "cell_type": "code",
   "execution_count": 8,
   "metadata": {},
   "outputs": [
    {
     "data": {
      "text/plain": [
       "(11128050, 11)"
      ]
     },
     "execution_count": 8,
     "metadata": {},
     "output_type": "execute_result"
    }
   ],
   "source": [
    "from feature_engg_utils import *\n",
    "data_ext = data\n",
    "\n",
    "\n",
    "data_ext, feat_name = lagged_shop_item_sales(data_ext, 2)\n",
    "data_ext, feat_name = lagged_item_sales(data_ext, 2)\n",
    "data_ext, feat_name = lagged_shop_item_price(data_ext,2)\n",
    "data_ext, feat_name = lagged_item_price(data_ext,2)\n",
    "\n",
    "# lags = [1,2,3,6,9,12,18,24]\n",
    "\n",
    "# data_ext, feat_names = months_from_last_item_sale(data_ext, lags)\n",
    "# data_ext, feat_names = months_from_last_shopitem_sale(data_ext, lags)\n",
    "\n",
    "data_ext.shape"
   ]
  },
  {
   "cell_type": "code",
   "execution_count": 9,
   "metadata": {},
   "outputs": [
    {
     "data": {
      "text/plain": [
       "(11128050, 27)"
      ]
     },
     "execution_count": 9,
     "metadata": {},
     "output_type": "execute_result"
    }
   ],
   "source": [
    "lags = [1,2,3,6,9,12,18,24]\n",
    "\n",
    "data_ext, feat_names = months_from_last_item_sale(data_ext, lags)\n",
    "data_ext, feat_names = months_from_last_shopitem_sale(data_ext, lags)\n",
    "\n",
    "data_ext.shape"
   ]
  },
  {
   "cell_type": "markdown",
   "metadata": {},
   "source": [
    "##### mean-encoding shop_id, item-catg-id"
   ]
  },
  {
   "cell_type": "code",
   "execution_count": 11,
   "metadata": {},
   "outputs": [],
   "source": [
    "from category_encoders import TargetEncoder\n",
    "\n",
    "te = TargetEncoder(cols=['shop_id', 'new_catg'])\n",
    "data_ext = te.fit_transform(data_ext, data_ext.item_cnt_month)\n",
    "\n",
    "data_ext.rename(columns={'shop_id':'shop_id_enc', 'new_catg':'new_catg_enc'}, inplace=True)"
   ]
  },
  {
   "cell_type": "markdown",
   "metadata": {},
   "source": [
    "##### Tfidf-feature for item_name"
   ]
  },
  {
   "cell_type": "code",
   "execution_count": 15,
   "metadata": {},
   "outputs": [],
   "source": [
    "feature_count = 25\n",
    "\n",
    "item_tmp = items[['item_name', 'item_id']]\n",
    "item_tmp.reset_index(drop = True, inplace = True)\n",
    "\n",
    "tfidf = TfidfVectorizer(max_features=feature_count)\n",
    "item_names_text_features = pd.DataFrame(tfidf.fit_transform(item_tmp['item_name']).toarray())\n",
    "item_names_text_features.reset_index(drop = True, inplace=True)\n",
    "item_names_text_features.columns = [\"item_name_tfidf_\" + str(col) for col in item_names_text_features.columns]\n",
    "item_tmp = pd.concat([item_tmp, item_names_text_features], axis=1, sort=False)\n",
    "item_tmp.drop(columns=['item_name'], inplace=True)\n",
    "\n",
    "# Add the tf-idf features to the data\n",
    "data_ext = data_ext.merge(item_tmp, on='item_id', how='left')\n",
    "\n",
    "# clipping the target(y)\n",
    "data_ext['item_cnt_month'] = data_ext.item_cnt_month.fillna(0).clip(0,20)"
   ]
  },
  {
   "cell_type": "markdown",
   "metadata": {},
   "source": [
    "##### Write the final data_ext for later use"
   ]
  },
  {
   "cell_type": "code",
   "execution_count": 10,
   "metadata": {},
   "outputs": [],
   "source": [
    "# data_ext.to_csv(\"./data_ext.csv\")\n",
    "\n",
    "# print(data_ext.shape)\n",
    "# data_ext.head(3)"
   ]
  },
  {
   "cell_type": "markdown",
   "metadata": {},
   "source": [
    "############################################################################################################"
   ]
  },
  {
   "cell_type": "markdown",
   "metadata": {},
   "source": [
    "1. read data_ext.csv\n",
    "2. set the feature names"
   ]
  },
  {
   "cell_type": "code",
   "execution_count": 2,
   "metadata": {},
   "outputs": [
    {
     "name": "stdout",
     "output_type": "stream",
     "text": [
      "(11128050, 57)\n"
     ]
    }
   ],
   "source": [
    "data_ext = pd.read_csv(\"./data_ext.csv\")\n",
    "print(data_ext.shape)"
   ]
  },
  {
   "cell_type": "code",
   "execution_count": 3,
   "metadata": {},
   "outputs": [],
   "source": [
    "import re\n",
    "\n",
    "# 'tf-idf':for item-names   |  'enc': for catg-features which are encoded  |  '_ago', _lag: Lag-features \n",
    "feat_re = r\".*(_lag[\\d]+|_ago|_tfidf_[\\d]+|_enc)$\"\n",
    "feature_set = [re.match(feat_re, col) for col in data_ext.columns]\n",
    "feature_set = [m.group() for m in feature_set if m is not None]\n",
    "\n",
    "target = [\"item_cnt_month\"]"
   ]
  },
  {
   "cell_type": "code",
   "execution_count": 15,
   "metadata": {},
   "outputs": [
    {
     "data": {
      "text/plain": [
       "{'Unnamed: 0',\n",
       " 'avg_item_price',\n",
       " 'date_block_num',\n",
       " 'item_cnt_month',\n",
       " 'item_id',\n",
       " 'item_name'}"
      ]
     },
     "execution_count": 15,
     "metadata": {},
     "output_type": "execute_result"
    }
   ],
   "source": [
    "set(data_ext.columns) - set(feature_set)"
   ]
  },
  {
   "cell_type": "markdown",
   "metadata": {},
   "source": [
    "##### Training"
   ]
  },
  {
   "cell_type": "code",
   "execution_count": null,
   "metadata": {},
   "outputs": [
    {
     "name": "stdout",
     "output_type": "stream",
     "text": [
      "Fitting...\n"
     ]
    }
   ],
   "source": [
    "X_train = data_ext[data_ext.date_block_num < 33][feature_set]\n",
    "y_train = data_ext[data_ext.date_block_num < 33][target]\n",
    "\n",
    "X_test = data_ext[data_ext.date_block_num == 33][feature_set]\n",
    "y_test = data_ext[data_ext.date_block_num == 33][target]\n",
    "\n",
    "print('Fitting...')\n",
    "model = xgb.XGBRegressor(max_depth = 11, min_child_weight=0.5, subsample = 1, eta = 0.3, num_round = 1000, seed = 1, nthread = 8)\n",
    "model.fit(X_train, y_train, eval_metric='rmse')\n",
    "\n",
    "\n",
    "preds = model.predict(X_test)\n",
    "preds = np.clip(preds, 0,20)\n",
    "\n",
    "print('rmse: ', sqrt(mean_squared_error(y_test, preds)))\n"
   ]
  },
  {
   "cell_type": "code",
   "execution_count": 29,
   "metadata": {},
   "outputs": [
    {
     "data": {
      "text/plain": [
       "(10675678, 99)"
      ]
     },
     "execution_count": 29,
     "metadata": {},
     "output_type": "execute_result"
    }
   ],
   "source": []
  },
  {
   "cell_type": "markdown",
   "metadata": {},
   "source": [
    "###### Cross Validation (Hyperparameter tuning)"
   ]
  },
  {
   "cell_type": "code",
   "execution_count": null,
   "metadata": {},
   "outputs": [],
   "source": []
  }
 ],
 "metadata": {
  "kernelspec": {
   "display_name": "Python 3",
   "language": "python",
   "name": "python3"
  },
  "language_info": {
   "codemirror_mode": {
    "name": "ipython",
    "version": 3
   },
   "file_extension": ".py",
   "mimetype": "text/x-python",
   "name": "python",
   "nbconvert_exporter": "python",
   "pygments_lexer": "ipython3",
   "version": "3.6.6"
  }
 },
 "nbformat": 4,
 "nbformat_minor": 2
}
